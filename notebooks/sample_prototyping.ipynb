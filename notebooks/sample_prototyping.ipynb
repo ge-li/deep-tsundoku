{
  "nbformat": 4,
  "nbformat_minor": 0,
  "metadata": {
    "colab": {
      "provenance": [],
      "authorship_tag": "ABX9TyPNz2pXxfuLNMHKjtOmpBD0",
      "include_colab_link": true
    },
    "kernelspec": {
      "name": "python3",
      "display_name": "Python 3"
    },
    "language_info": {
      "name": "python"
    }
  },
  "cells": [
    {
      "cell_type": "markdown",
      "metadata": {
        "id": "view-in-github",
        "colab_type": "text"
      },
      "source": [
        "<a href=\"https://colab.research.google.com/github/jay-jojo-cheng/deep-tsundoku/blob/master/notebooks/sample_prototyping.ipynb\" target=\"_parent\"><img src=\"https://colab.research.google.com/assets/colab-badge.svg\" alt=\"Open In Colab\"/></a>"
      ]
    },
    {
      "cell_type": "markdown",
      "source": [
        "This example notebook shows how to use our project template to begin prototyping."
      ],
      "metadata": {
        "id": "193wRSKU7emL"
      }
    },
    {
      "cell_type": "markdown",
      "source": [
        "# Setup\n",
        "\n",
        "Clone GitHub [repository](https://github.com/jay-jojo-cheng/deep-tsundoku), install [dependencies](https://github.com/jay-jojo-cheng/deep-tsundoku/requirements.txt) and check PyTorch and GPU."
      ],
      "metadata": {
        "id": "C7MTWXGN75_f"
      }
    },
    {
      "cell_type": "code",
      "source": [
        "!git clone https://github.com/jay-jojo-cheng/deep-tsundoku # clone\n",
        "%cd deep-tsundoku\n",
        "%pip install -r requirements.txt"
      ],
      "metadata": {
        "id": "vUi4PQ-b7kP9"
      },
      "execution_count": 1,
      "outputs": []
    },
    {
      "cell_type": "code",
      "source": [],
      "metadata": {
        "id": "2FQt_-0H73ZB"
      },
      "execution_count": null,
      "outputs": []
    }
  ]
}
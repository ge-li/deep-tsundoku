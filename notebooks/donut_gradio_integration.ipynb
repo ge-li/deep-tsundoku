{
 "cells": [
  {
   "cell_type": "code",
   "execution_count": 1,
   "id": "e8abbd3e",
   "metadata": {},
   "outputs": [],
   "source": [
    "!pip install -q git+https://github.com/huggingface/transformers.git"
   ]
  },
  {
   "cell_type": "code",
   "execution_count": 23,
   "id": "54504ad6",
   "metadata": {},
   "outputs": [],
   "source": [
    "from transformers import DonutProcessor, VisionEncoderDecoderModel\n",
    "from app_gradio import app"
   ]
  },
  {
   "cell_type": "code",
   "execution_count": 24,
   "id": "6d612544",
   "metadata": {},
   "outputs": [],
   "source": [
    "processor = DonutProcessor.from_pretrained(\"jay-jojo-cheng/donut-cover\")\n",
    "model = VisionEncoderDecoderModel.from_pretrained(\"jay-jojo-cheng/donut-cover\")"
   ]
  },
  {
   "cell_type": "code",
   "execution_count": 25,
   "id": "b263d3c8",
   "metadata": {},
   "outputs": [],
   "source": [
    "inference_model = app.ModelInference(processor, model)"
   ]
  },
  {
   "cell_type": "code",
   "execution_count": 26,
   "id": "85c4e186",
   "metadata": {},
   "outputs": [],
   "source": [
    "frontend = app.make_frontend(inference_model.predict)"
   ]
  },
  {
   "cell_type": "code",
   "execution_count": 27,
   "id": "24ad561d",
   "metadata": {},
   "outputs": [
    {
     "name": "stdout",
     "output_type": "stream",
     "text": [
      "Running on local URL:  http://127.0.0.1:7865\n",
      "\n",
      "To create a public link, set `share=True` in `launch()`.\n"
     ]
    },
    {
     "data": {
      "text/html": [
       "<div><iframe src=\"http://127.0.0.1:7865/\" width=\"900\" height=\"500\" allow=\"autoplay; camera; microphone; clipboard-read; clipboard-write;\" frameborder=\"0\" allowfullscreen></iframe></div>"
      ],
      "text/plain": [
       "<IPython.core.display.HTML object>"
      ]
     },
     "metadata": {},
     "output_type": "display_data"
    },
    {
     "data": {
      "text/plain": [
       "(<gradio.routes.App at 0x29200fb8880>, 'http://127.0.0.1:7865/', None)"
      ]
     },
     "execution_count": 27,
     "metadata": {},
     "output_type": "execute_result"
    }
   ],
   "source": [
    "frontend.launch(share=False)"
   ]
  }
 ],
 "metadata": {
  "kernelspec": {
   "display_name": "Python 3.8.8 ('base')",
   "language": "python",
   "name": "python3"
  },
  "language_info": {
   "codemirror_mode": {
    "name": "ipython",
    "version": 3
   },
   "file_extension": ".py",
   "mimetype": "text/x-python",
   "name": "python",
   "nbconvert_exporter": "python",
   "pygments_lexer": "ipython3",
   "version": "3.8.8"
  },
  "vscode": {
   "interpreter": {
    "hash": "ad2bdc8ecc057115af97d19610ffacc2b4e99fae6737bb82f5d7fb13d2f2c186"
   }
  }
 },
 "nbformat": 4,
 "nbformat_minor": 5
}
